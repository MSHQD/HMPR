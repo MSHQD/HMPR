{
  "cells": [
    {
      "cell_type": "markdown",
      "id": "548d1a24",
      "metadata": {
        "id": "548d1a24"
      },
      "source": [
        "# Распознавание текста\n",
        "\n",
        "## CRNN+CTC loss baseline\n",
        "\n",
        "В данном ноутбуке представлен baseline модели распознавания текста с помощью CRNN модели и CTC loss. Вы можете добавить новые аугментации или изменить структуру данной модели, или же попробовать совершенно новую архитектуру."
      ]
    },
    {
      "cell_type": "markdown",
      "id": "a804d024",
      "metadata": {
        "id": "a804d024"
      },
      "source": [
        "# 0. Установка и подгрузука библиотек"
      ]
    },
    {
      "cell_type": "code",
      "execution_count": 1,
      "id": "4LqTxz3sePE5",
      "metadata": {
        "colab": {
          "base_uri": "https://localhost:8080/"
        },
        "collapsed": true,
        "id": "4LqTxz3sePE5",
        "outputId": "760f9d22-1650-42be-ffc5-c5b9e99245f4"
      },
      "outputs": [
        {
          "output_type": "stream",
          "name": "stdout",
          "text": [
            "Collecting git+https://github.com/facebookresearch/detectron2.git\n",
            "  Cloning https://github.com/facebookresearch/detectron2.git to /tmp/pip-req-build-n15qc6sn\n",
            "  Running command git clone --filter=blob:none --quiet https://github.com/facebookresearch/detectron2.git /tmp/pip-req-build-n15qc6sn\n",
            "  Resolved https://github.com/facebookresearch/detectron2.git to commit 536dc9d527074e3b15df5f6677ffe1f4e104a4ab\n",
            "  Preparing metadata (setup.py) ... \u001b[?25l\u001b[?25hdone\n",
            "Requirement already satisfied: Pillow>=7.1 in /usr/local/lib/python3.11/dist-packages (from detectron2==0.6) (11.2.1)\n",
            "Requirement already satisfied: matplotlib in /usr/local/lib/python3.11/dist-packages (from detectron2==0.6) (3.4.2)\n",
            "Requirement already satisfied: pycocotools>=2.0.2 in /usr/local/lib/python3.11/dist-packages (from detectron2==0.6) (2.0.8)\n",
            "Requirement already satisfied: termcolor>=1.1 in /usr/local/lib/python3.11/dist-packages (from detectron2==0.6) (3.1.0)\n",
            "Requirement already satisfied: yacs>=0.1.8 in /usr/local/lib/python3.11/dist-packages (from detectron2==0.6) (0.1.8)\n",
            "Requirement already satisfied: tabulate in /usr/local/lib/python3.11/dist-packages (from detectron2==0.6) (0.9.0)\n",
            "Requirement already satisfied: cloudpickle in /usr/local/lib/python3.11/dist-packages (from detectron2==0.6) (3.1.1)\n",
            "Requirement already satisfied: tqdm>4.29.0 in /usr/local/lib/python3.11/dist-packages (from detectron2==0.6) (4.67.1)\n",
            "Requirement already satisfied: tensorboard in /usr/local/lib/python3.11/dist-packages (from detectron2==0.6) (2.18.0)\n",
            "Requirement already satisfied: fvcore<0.1.6,>=0.1.5 in /usr/local/lib/python3.11/dist-packages (from detectron2==0.6) (0.1.5.post20221221)\n",
            "Requirement already satisfied: iopath<0.1.10,>=0.1.7 in /usr/local/lib/python3.11/dist-packages (from detectron2==0.6) (0.1.9)\n",
            "Requirement already satisfied: omegaconf<2.4,>=2.1 in /usr/local/lib/python3.11/dist-packages (from detectron2==0.6) (2.3.0)\n",
            "Requirement already satisfied: hydra-core>=1.1 in /usr/local/lib/python3.11/dist-packages (from detectron2==0.6) (1.3.2)\n",
            "Requirement already satisfied: black in /usr/local/lib/python3.11/dist-packages (from detectron2==0.6) (25.1.0)\n",
            "Requirement already satisfied: packaging in /usr/local/lib/python3.11/dist-packages (from detectron2==0.6) (24.2)\n",
            "Requirement already satisfied: numpy in /usr/local/lib/python3.11/dist-packages (from fvcore<0.1.6,>=0.1.5->detectron2==0.6) (2.0.2)\n",
            "Requirement already satisfied: pyyaml>=5.1 in /usr/local/lib/python3.11/dist-packages (from fvcore<0.1.6,>=0.1.5->detectron2==0.6) (6.0.2)\n",
            "Requirement already satisfied: antlr4-python3-runtime==4.9.* in /usr/local/lib/python3.11/dist-packages (from hydra-core>=1.1->detectron2==0.6) (4.9.3)\n",
            "Requirement already satisfied: portalocker in /usr/local/lib/python3.11/dist-packages (from iopath<0.1.10,>=0.1.7->detectron2==0.6) (3.1.1)\n",
            "Requirement already satisfied: cycler>=0.10 in /usr/local/lib/python3.11/dist-packages (from matplotlib->detectron2==0.6) (0.12.1)\n",
            "Requirement already satisfied: kiwisolver>=1.0.1 in /usr/local/lib/python3.11/dist-packages (from matplotlib->detectron2==0.6) (1.4.8)\n",
            "Requirement already satisfied: pyparsing>=2.2.1 in /usr/local/lib/python3.11/dist-packages (from matplotlib->detectron2==0.6) (3.2.3)\n",
            "Requirement already satisfied: python-dateutil>=2.7 in /usr/local/lib/python3.11/dist-packages (from matplotlib->detectron2==0.6) (2.9.0.post0)\n",
            "Requirement already satisfied: click>=8.0.0 in /usr/local/lib/python3.11/dist-packages (from black->detectron2==0.6) (8.1.8)\n",
            "Requirement already satisfied: mypy-extensions>=0.4.3 in /usr/local/lib/python3.11/dist-packages (from black->detectron2==0.6) (1.1.0)\n",
            "Requirement already satisfied: pathspec>=0.9.0 in /usr/local/lib/python3.11/dist-packages (from black->detectron2==0.6) (0.12.1)\n",
            "Requirement already satisfied: platformdirs>=2 in /usr/local/lib/python3.11/dist-packages (from black->detectron2==0.6) (4.3.7)\n",
            "Requirement already satisfied: absl-py>=0.4 in /usr/local/lib/python3.11/dist-packages (from tensorboard->detectron2==0.6) (1.4.0)\n",
            "Requirement already satisfied: grpcio>=1.48.2 in /usr/local/lib/python3.11/dist-packages (from tensorboard->detectron2==0.6) (1.71.0)\n",
            "Requirement already satisfied: markdown>=2.6.8 in /usr/local/lib/python3.11/dist-packages (from tensorboard->detectron2==0.6) (3.8)\n",
            "Requirement already satisfied: protobuf!=4.24.0,>=3.19.6 in /usr/local/lib/python3.11/dist-packages (from tensorboard->detectron2==0.6) (5.29.4)\n",
            "Requirement already satisfied: setuptools>=41.0.0 in /usr/local/lib/python3.11/dist-packages (from tensorboard->detectron2==0.6) (75.2.0)\n",
            "Requirement already satisfied: six>1.9 in /usr/local/lib/python3.11/dist-packages (from tensorboard->detectron2==0.6) (1.17.0)\n",
            "Requirement already satisfied: tensorboard-data-server<0.8.0,>=0.7.0 in /usr/local/lib/python3.11/dist-packages (from tensorboard->detectron2==0.6) (0.7.2)\n",
            "Requirement already satisfied: werkzeug>=1.0.1 in /usr/local/lib/python3.11/dist-packages (from tensorboard->detectron2==0.6) (3.1.3)\n",
            "Requirement already satisfied: MarkupSafe>=2.1.1 in /usr/local/lib/python3.11/dist-packages (from werkzeug>=1.0.1->tensorboard->detectron2==0.6) (3.0.2)\n"
          ]
        }
      ],
      "source": [
        "!pip install torch torchvision --quiet\n",
        "!pip install -U git+https://github.com/facebookresearch/detectron2.git\n",
        "!pip install opencv-python matplotlib pandas scikit-learn --quie"
      ]
    },
    {
      "cell_type": "code",
      "execution_count": 2,
      "id": "dcce067f",
      "metadata": {
        "colab": {
          "base_uri": "https://localhost:8080/"
        },
        "collapsed": true,
        "id": "dcce067f",
        "outputId": "5d54e873-c3d1-45d2-d4e1-740cada13f32"
      },
      "outputs": [
        {
          "output_type": "stream",
          "name": "stdout",
          "text": [
            "Collecting numpy==1.20.3\n",
            "  Using cached numpy-1.20.3.zip (7.8 MB)\n",
            "  Installing build dependencies ... \u001b[?25l\u001b[?25hdone\n",
            "  Getting requirements to build wheel ... \u001b[?25l\u001b[?25hdone\n",
            "  Preparing metadata (pyproject.toml) ... \u001b[?25l\u001b[?25hdone\n",
            "Building wheels for collected packages: numpy\n",
            "  \u001b[1;31merror\u001b[0m: \u001b[1msubprocess-exited-with-error\u001b[0m\n",
            "  \n",
            "  \u001b[31m×\u001b[0m \u001b[32mBuilding wheel for numpy \u001b[0m\u001b[1;32m(\u001b[0m\u001b[32mpyproject.toml\u001b[0m\u001b[1;32m)\u001b[0m did not run successfully.\n",
            "  \u001b[31m│\u001b[0m exit code: \u001b[1;36m1\u001b[0m\n",
            "  \u001b[31m╰─>\u001b[0m See above for output.\n",
            "  \n",
            "  \u001b[1;35mnote\u001b[0m: This error originates from a subprocess, and is likely not a problem with pip.\n",
            "  Building wheel for numpy (pyproject.toml) ... \u001b[?25l\u001b[?25herror\n",
            "\u001b[31m  ERROR: Failed building wheel for numpy\u001b[0m\u001b[31m\n",
            "\u001b[0mFailed to build numpy\n",
            "\u001b[31mERROR: ERROR: Failed to build installable wheels for some pyproject.toml based projects (numpy)\u001b[0m\u001b[31m\n",
            "\u001b[0mLooking in links: https://download.pytorch.org/whl/torch_stable.html\n",
            "\u001b[31mERROR: Could not find a version that satisfies the requirement torch==1.9.0+cu111 (from versions: 1.13.0, 1.13.0+cpu, 1.13.0+cu116, 1.13.0+cu117, 1.13.0+cu117.with.pypi.cudnn, 1.13.1, 1.13.1+cpu, 1.13.1+cu116, 1.13.1+cu117, 1.13.1+cu117.with.pypi.cudnn, 2.0.0, 2.0.0+cpu, 2.0.0+cpu.cxx11.abi, 2.0.0+cu117, 2.0.0+cu117.with.pypi.cudnn, 2.0.0+cu118, 2.0.1, 2.0.1+cpu, 2.0.1+cpu.cxx11.abi, 2.0.1+cu117, 2.0.1+cu117.with.pypi.cudnn, 2.0.1+cu118, 2.0.1+rocm5.3, 2.0.1+rocm5.4.2, 2.1.0, 2.1.0+cpu, 2.1.0+cpu.cxx11.abi, 2.1.0+cu118, 2.1.0+cu121, 2.1.0+cu121.with.pypi.cudnn, 2.1.0+rocm5.5, 2.1.0+rocm5.6, 2.1.1, 2.1.1+cpu, 2.1.1+cpu.cxx11.abi, 2.1.1+cu118, 2.1.1+cu121, 2.1.1+cu121.with.pypi.cudnn, 2.1.1+rocm5.5, 2.1.1+rocm5.6, 2.1.2, 2.1.2+cpu, 2.1.2+cpu.cxx11.abi, 2.1.2+cu118, 2.1.2+cu121, 2.1.2+cu121.with.pypi.cudnn, 2.1.2+rocm5.5, 2.1.2+rocm5.6, 2.2.0, 2.2.0+cpu, 2.2.0+cpu.cxx11.abi, 2.2.0+cu118, 2.2.0+cu121, 2.2.0+rocm5.6, 2.2.0+rocm5.7, 2.2.1, 2.2.1+cpu, 2.2.1+cpu.cxx11.abi, 2.2.1+cu118, 2.2.1+cu121, 2.2.1+rocm5.6, 2.2.1+rocm5.7, 2.2.2, 2.2.2+cpu, 2.2.2+cpu.cxx11.abi, 2.2.2+cu118, 2.2.2+cu121, 2.2.2+rocm5.6, 2.2.2+rocm5.7, 2.3.0, 2.3.0+cpu, 2.3.0+cpu.cxx11.abi, 2.3.0+cu118, 2.3.0+cu121, 2.3.0+rocm5.7, 2.3.0+rocm6.0, 2.3.1, 2.3.1+cpu, 2.3.1+cpu.cxx11.abi, 2.3.1+cu118, 2.3.1+cu121, 2.3.1+rocm5.7, 2.3.1+rocm6.0, 2.4.0, 2.4.1, 2.5.0, 2.5.1, 2.6.0, 2.7.0)\u001b[0m\u001b[31m\n",
            "\u001b[0m\u001b[31mERROR: No matching distribution found for torch==1.9.0+cu111\u001b[0m\u001b[31m\n",
            "\u001b[0m\u001b[31mERROR: Ignored the following yanked versions: 3.4.11.39, 3.4.17.61, 4.4.0.42, 4.4.0.44, 4.5.4.58, 4.5.5.62, 4.7.0.68\u001b[0m\u001b[31m\n",
            "\u001b[0m\u001b[31mERROR: Could not find a version that satisfies the requirement opencv-python==4.5.2.52 (from versions: 3.4.0.14, 3.4.10.37, 3.4.11.41, 3.4.11.43, 3.4.11.45, 3.4.13.47, 3.4.15.55, 3.4.16.57, 3.4.16.59, 3.4.17.63, 3.4.18.65, 4.3.0.38, 4.4.0.40, 4.4.0.46, 4.5.1.48, 4.5.3.56, 4.5.4.60, 4.5.5.64, 4.6.0.66, 4.7.0.72, 4.8.0.74, 4.8.0.76, 4.8.1.78, 4.9.0.80, 4.10.0.82, 4.10.0.84, 4.11.0.86)\u001b[0m\u001b[31m\n",
            "\u001b[0m\u001b[31mERROR: No matching distribution found for opencv-python==4.5.2.52\u001b[0m\u001b[31m\n",
            "\u001b[0mRequirement already satisfied: matplotlib==3.4.2 in /usr/local/lib/python3.11/dist-packages (3.4.2)\n",
            "Requirement already satisfied: cycler>=0.10 in /usr/local/lib/python3.11/dist-packages (from matplotlib==3.4.2) (0.12.1)\n",
            "Requirement already satisfied: kiwisolver>=1.0.1 in /usr/local/lib/python3.11/dist-packages (from matplotlib==3.4.2) (1.4.8)\n",
            "Requirement already satisfied: numpy>=1.16 in /usr/local/lib/python3.11/dist-packages (from matplotlib==3.4.2) (2.0.2)\n",
            "Requirement already satisfied: pillow>=6.2.0 in /usr/local/lib/python3.11/dist-packages (from matplotlib==3.4.2) (11.2.1)\n",
            "Requirement already satisfied: pyparsing>=2.2.1 in /usr/local/lib/python3.11/dist-packages (from matplotlib==3.4.2) (3.2.3)\n",
            "Requirement already satisfied: python-dateutil>=2.7 in /usr/local/lib/python3.11/dist-packages (from matplotlib==3.4.2) (2.9.0.post0)\n",
            "Requirement already satisfied: six>=1.5 in /usr/local/lib/python3.11/dist-packages (from python-dateutil>=2.7->matplotlib==3.4.2) (1.17.0)\n"
          ]
        }
      ],
      "source": [
        " !pip install numpy==1.20.3\n",
        " !pip install torch==1.9.0+cu111 torchvision==0.10.0+cu111 -f https://download.pytorch.org/whl/torch_stable.html\n",
        " !pip install opencv-python==4.5.2.52\n",
        " !pip install matplotlib==3.4.2"
      ]
    },
    {
      "cell_type": "markdown",
      "id": "63ee595a",
      "metadata": {
        "id": "63ee595a"
      },
      "source": [
        "Установка библиотек, под которым запускается данный бейзлайн."
      ]
    },
    {
      "cell_type": "code",
      "source": [
        "!pip install jiwer"
      ],
      "metadata": {
        "colab": {
          "base_uri": "https://localhost:8080/"
        },
        "id": "BakiO_qxSjot",
        "outputId": "435fc487-d35c-445d-b52f-436c6ae59ce7"
      },
      "id": "BakiO_qxSjot",
      "execution_count": 4,
      "outputs": [
        {
          "output_type": "stream",
          "name": "stdout",
          "text": [
            "Collecting jiwer\n",
            "  Downloading jiwer-3.1.0-py3-none-any.whl.metadata (2.6 kB)\n",
            "Requirement already satisfied: click>=8.1.8 in /usr/local/lib/python3.11/dist-packages (from jiwer) (8.1.8)\n",
            "Collecting rapidfuzz>=3.9.7 (from jiwer)\n",
            "  Downloading rapidfuzz-3.13.0-cp311-cp311-manylinux_2_17_x86_64.manylinux2014_x86_64.whl.metadata (12 kB)\n",
            "Downloading jiwer-3.1.0-py3-none-any.whl (22 kB)\n",
            "Downloading rapidfuzz-3.13.0-cp311-cp311-manylinux_2_17_x86_64.manylinux2014_x86_64.whl (3.1 MB)\n",
            "\u001b[2K   \u001b[90m━━━━━━━━━━━━━━━━━━━━━━━━━━━━━━━━━━━━━━━━\u001b[0m \u001b[32m3.1/3.1 MB\u001b[0m \u001b[31m52.7 MB/s\u001b[0m eta \u001b[36m0:00:00\u001b[0m\n",
            "\u001b[?25hInstalling collected packages: rapidfuzz, jiwer\n",
            "Successfully installed jiwer-3.1.0 rapidfuzz-3.13.0\n"
          ]
        }
      ]
    },
    {
      "cell_type": "code",
      "execution_count": 5,
      "id": "4dc81cd6",
      "metadata": {
        "id": "4dc81cd6"
      },
      "outputs": [],
      "source": [
        "import torch\n",
        "import torch.nn as nn\n",
        "import torchvision\n",
        "from torch.utils.data import Dataset\n",
        "from torch.nn.utils.rnn import pad_sequence\n",
        "from jiwer import wer\n",
        "from torch.utils.tensorboard import SummaryWriter\n",
        "\n",
        "import numpy as np\n",
        "import cv2\n",
        "import os\n",
        "import json\n",
        "from matplotlib import pyplot as plt"
      ]
    },
    {
      "cell_type": "markdown",
      "id": "b5e66674",
      "metadata": {
        "id": "b5e66674"
      },
      "source": [
        "## 1. Разделим трейн датасет на обучающую и валидационную подвыборки\n"
      ]
    },
    {
      "cell_type": "markdown",
      "id": "d2b5a075",
      "metadata": {
        "id": "d2b5a075"
      },
      "source": [
        "Сначала преобразуем таблицу (в которой есть колонка base_image) в `labels.json` - это формат из второго этапа олимпиады, для которого составлялся бейзлайн. По сути это просто словарь из колонок 'file_name' и 'text'."
      ]
    },
    {
      "cell_type": "code",
      "execution_count": 6,
      "id": "3a5fcf69",
      "metadata": {
        "id": "3a5fcf69"
      },
      "outputs": [],
      "source": [
        "import pandas as pd"
      ]
    },
    {
      "cell_type": "code",
      "execution_count": 7,
      "id": "p_hc3GFa-Mta",
      "metadata": {
        "colab": {
          "base_uri": "https://localhost:8080/"
        },
        "id": "p_hc3GFa-Mta",
        "outputId": "79b0bd2b-f2ea-4f4b-ce94-66db52008365"
      },
      "outputs": [
        {
          "output_type": "stream",
          "name": "stdout",
          "text": [
            "Mounted at /content/drive\n"
          ]
        }
      ],
      "source": [
        "from google.colab import drive\n",
        "drive.mount('/content/drive')"
      ]
    },
    {
      "cell_type": "code",
      "execution_count": 51,
      "id": "8b3YF9tgcZlQ",
      "metadata": {
        "colab": {
          "base_uri": "https://localhost:8080/"
        },
        "id": "8b3YF9tgcZlQ",
        "outputId": "9ca71f0f-6582-4135-a8c0-6b7c83eda8b3"
      },
      "outputs": [
        {
          "output_type": "stream",
          "name": "stdout",
          "text": [
            "Итоговая длина train_data: 1002\n"
          ]
        }
      ],
      "source": [
        "import pandas as pd\n",
        "import os\n",
        "\n",
        "df_path = '/content/drive/MyDrive/train_recognition_small'\n",
        "train_csv = pd.read_csv(os.path.join(df_path, 'labels.csv')).head(2002)\n",
        "images_folder = os.path.join(df_path, 'images')\n",
        "available_files = set(os.listdir(images_folder))\n",
        "train_csv = train_csv[train_csv['file_name'].isin(available_files)].reset_index(drop=True)\n",
        "train_data = dict(train_csv[['file_name', 'text']].values)\n",
        "print(\"Итоговая длина train_data:\", len(train_data))"
      ]
    },
    {
      "cell_type": "code",
      "execution_count": 52,
      "id": "37b27c0a",
      "metadata": {
        "colab": {
          "base_uri": "https://localhost:8080/"
        },
        "id": "37b27c0a",
        "outputId": "48e03c0f-4bde-4002-d80c-027d58af0122"
      },
      "outputs": [
        {
          "output_type": "stream",
          "name": "stdout",
          "text": [
            "train len 1002\n",
            "train len after split 751\n",
            "val len after split 251\n"
          ]
        }
      ],
      "source": [
        "train_data = [(k, v) for k, v in train_data.items()]\n",
        "print('train len', len(train_data))\n",
        "\n",
        "split_coef = 0.75\n",
        "train_len = int(len(train_data)*split_coef)\n",
        "\n",
        "train_data_splitted = train_data[:train_len]\n",
        "val_data_splitted = train_data[train_len:]\n",
        "\n",
        "print('train len after split', len(train_data_splitted))\n",
        "print('val len after split', len(val_data_splitted))"
      ]
    },
    {
      "cell_type": "code",
      "execution_count": 46,
      "id": "8eacdebf",
      "metadata": {
        "collapsed": true,
        "id": "8eacdebf"
      },
      "outputs": [],
      "source": [
        "with open('/content/drive/MyDrive/train_recognition_small/train_labels_splitted.json', 'w') as f:\n",
        "    json.dump(dict(train_data_splitted), f)\n",
        "\n",
        "with open('/content/drive/MyDrive/train_recognition_small/val_labels_splitted.json', 'w') as f:\n",
        "    json.dump(dict(val_data_splitted), f)"
      ]
    },
    {
      "cell_type": "markdown",
      "id": "270c0c76",
      "metadata": {
        "id": "270c0c76"
      },
      "source": [
        "## 2. Зададим параметры обучения\n",
        "\n",
        "Здесь мы можем поправить конфиги обучения - задать размер батча, количество эпох, размер входных изображений, а также установить пути к датасетам."
      ]
    },
    {
      "cell_type": "code",
      "execution_count": 11,
      "id": "e7109653",
      "metadata": {
        "id": "e7109653"
      },
      "outputs": [],
      "source": [
        "alphabet = ''.join(sorted(list(set(''.join(train_csv['text'].values)))))"
      ]
    },
    {
      "cell_type": "code",
      "execution_count": 12,
      "id": "6d8a5e43",
      "metadata": {
        "colab": {
          "base_uri": "https://localhost:8080/",
          "height": 35
        },
        "id": "6d8a5e43",
        "outputId": "ff47964b-ca3a-449c-ab9a-e644c12ec157"
      },
      "outputs": [
        {
          "output_type": "execute_result",
          "data": {
            "text/plain": [
              "' !\"(),-.012345:?АБВДЕЗИКМНОПРСТУХЧЭЯабвгдежзийклмнопрстуфхцчшщъыьэюяё'"
            ],
            "application/vnd.google.colaboratory.intrinsic+json": {
              "type": "string"
            }
          },
          "metadata": {},
          "execution_count": 12
        }
      ],
      "source": [
        "alphabet"
      ]
    },
    {
      "cell_type": "code",
      "execution_count": 53,
      "id": "3539fc96",
      "metadata": {
        "id": "3539fc96"
      },
      "outputs": [],
      "source": [
        "DEVICE = torch.device('cuda' if torch.cuda.is_available() else 'cpu')\n",
        "\n",
        "\n",
        "config_json = {\n",
        "    \"alphabet\": ''' !\"%\\'()*+,-./0123456789:;<=>?ABCDEFGHIJKLMNOPRSTUVWXY[]_abcdefghijklmnopqrstuvwxyz|}ЁАБВГДЕЖЗИКЛМНОПРСТУФХЦЧШЩЫЬЭЮЯабвгдежзийклмнопрстуфхцчшщъыьэюяё№''',\n",
        "    \"save_dir\": \"experiments/test\",\n",
        "    \"num_epochs\": 120,\n",
        "    \"image\": {\n",
        "        \"width\": 256,\n",
        "        \"height\": 32\n",
        "    },\n",
        "    \"train\": {\n",
        "        \"root_path\": \"/content/drive/MyDrive/train_recognition_small/images/\",\n",
        "        \"json_path\": \"/content/drive/MyDrive/train_recognition_small/train_labels_splitted.json\",\n",
        "        \"batch_size\": 64\n",
        "    },\n",
        "    \"val\": {\n",
        "        \"root_path\": \"/content/drive/MyDrive/train_recognition_small/images/\",\n",
        "        \"json_path\": \"/content/drive/MyDrive/train_recognition_small/val_labels_splitted.json\",\n",
        "        \"batch_size\": 64\n",
        "    }\n",
        "}"
      ]
    },
    {
      "cell_type": "code",
      "execution_count": 14,
      "id": "8e2ddbfc",
      "metadata": {
        "colab": {
          "base_uri": "https://localhost:8080/"
        },
        "id": "8e2ddbfc",
        "outputId": "e404d580-20fd-455e-927e-eb3c6749e90f"
      },
      "outputs": [
        {
          "output_type": "execute_result",
          "data": {
            "text/plain": [
              "device(type='cuda')"
            ]
          },
          "metadata": {},
          "execution_count": 14
        }
      ],
      "source": [
        "DEVICE"
      ]
    },
    {
      "cell_type": "markdown",
      "id": "83e04f96",
      "metadata": {
        "id": "83e04f96"
      },
      "source": [
        "## 3. Теперь определим класс датасета (torch.utils.data.Dataset) и другие вспомогательные функции"
      ]
    },
    {
      "cell_type": "code",
      "execution_count": 15,
      "id": "b976c163",
      "metadata": {
        "id": "b976c163"
      },
      "outputs": [],
      "source": [
        "# функция которая помогает объединять картинки и таргет-текст в батч\n",
        "def collate_fn(batch):\n",
        "    images, texts, enc_texts = zip(*batch)\n",
        "    images = torch.stack(images, 0)\n",
        "    text_lens = torch.LongTensor([len(text) for text in texts])\n",
        "    enc_pad_texts = pad_sequence(enc_texts, batch_first=True, padding_value=0)\n",
        "    return images, texts, enc_pad_texts, text_lens\n",
        "\n",
        "\n",
        "def get_data_loader(\n",
        "    transforms, json_path, root_path, tokenizer, batch_size, drop_last\n",
        "):\n",
        "    dataset = OCRDataset(json_path, root_path, tokenizer, transforms)\n",
        "    data_loader = torch.utils.data.DataLoader(\n",
        "        dataset=dataset,\n",
        "        collate_fn=collate_fn,\n",
        "        batch_size=batch_size,\n",
        "        num_workers=8,\n",
        "    )\n",
        "    return data_loader\n",
        "\n",
        "\n",
        "class OCRDataset(Dataset):\n",
        "    def __init__(self, json_path, root_path, tokenizer, transform=None):\n",
        "        super().__init__()\n",
        "        self.transform = transform\n",
        "        with open(json_path, 'r') as f:\n",
        "            data = json.load(f)\n",
        "        self.data_len = len(data)\n",
        "\n",
        "        self.img_paths = []\n",
        "        self.texts = []\n",
        "        for img_name, text in data.items():\n",
        "            self.img_paths.append(os.path.join(root_path, img_name))\n",
        "            self.texts.append(text)\n",
        "        self.enc_texts = tokenizer.encode(self.texts)\n",
        "\n",
        "    def __len__(self):\n",
        "        return self.data_len\n",
        "\n",
        "    def __getitem__(self, idx):\n",
        "        img_path = self.img_paths[idx]\n",
        "        # print(\"Путь к изображению:\", img_path)\n",
        "        text = self.texts[idx]\n",
        "        enc_text = torch.LongTensor(self.enc_texts[idx])\n",
        "        image = cv2.imread(img_path)\n",
        "        if self.transform is not None:\n",
        "            image = self.transform(image)\n",
        "        return image, text, enc_text\n",
        "\n",
        "\n",
        "class AverageMeter:\n",
        "    \"\"\"Computes and stores the average and current value\"\"\"\n",
        "    def __init__(self):\n",
        "        self.reset()\n",
        "\n",
        "    def reset(self):\n",
        "        self.avg = 0\n",
        "        self.sum = 0\n",
        "        self.count = 0\n",
        "\n",
        "    def update(self, val, n=1):\n",
        "        self.sum += val * n\n",
        "        self.count += n\n",
        "        self.avg = self.sum / self.count"
      ]
    },
    {
      "cell_type": "markdown",
      "id": "2b28fdb5",
      "metadata": {
        "id": "2b28fdb5"
      },
      "source": [
        "## 4. Здесь определен Токенайзер - вспопогательный класс, который преобразует текст в числа\n",
        "\n",
        "Разметка-текст с картинок преобразуется в числовое представление, на которых модель может учиться. Также может преобразовывать числовое предсказание модели обратно в текст."
      ]
    },
    {
      "cell_type": "code",
      "execution_count": 16,
      "id": "d1648058",
      "metadata": {
        "id": "d1648058"
      },
      "outputs": [],
      "source": [
        "OOV_TOKEN = '<OOV>'\n",
        "CTC_BLANK = '<BLANK>'\n",
        "\n",
        "\n",
        "def get_char_map(alphabet):\n",
        "    \"\"\"Make from string alphabet character2int dict.\n",
        "    Add BLANK char fro CTC loss and OOV char for out of vocabulary symbols.\"\"\"\n",
        "    char_map = {value: idx + 2 for (idx, value) in enumerate(alphabet)}\n",
        "    char_map[CTC_BLANK] = 0\n",
        "    char_map[OOV_TOKEN] = 1\n",
        "    return char_map\n",
        "\n",
        "\n",
        "class Tokenizer:\n",
        "    \"\"\"Class for encoding and decoding string word to sequence of int\n",
        "    (and vice versa) using alphabet.\"\"\"\n",
        "\n",
        "    def __init__(self, alphabet):\n",
        "        self.char_map = get_char_map(alphabet)\n",
        "        self.rev_char_map = {val: key for key, val in self.char_map.items()}\n",
        "\n",
        "    def encode(self, word_list):\n",
        "        \"\"\"Returns a list of encoded words (int).\"\"\"\n",
        "        enc_words = []\n",
        "        for word in word_list:\n",
        "            enc_words.append(\n",
        "                [self.char_map[char] if char in self.char_map\n",
        "                 else self.char_map[OOV_TOKEN]\n",
        "                 for char in word]\n",
        "            )\n",
        "        return enc_words\n",
        "\n",
        "    def get_num_chars(self):\n",
        "        return len(self.char_map)\n",
        "\n",
        "    def decode(self, enc_word_list):\n",
        "        \"\"\"Returns a list of words (str) after removing blanks and collapsing\n",
        "        repeating characters. Also skip out of vocabulary token.\"\"\"\n",
        "        dec_words = []\n",
        "        for word in enc_word_list:\n",
        "            word_chars = ''\n",
        "            for idx, char_enc in enumerate(word):\n",
        "                # skip if blank symbol, oov token or repeated characters\n",
        "                if (\n",
        "                    char_enc != self.char_map[OOV_TOKEN]\n",
        "                    and char_enc != self.char_map[CTC_BLANK]\n",
        "                    # idx > 0 to avoid selecting [-1] item\n",
        "                    and not (idx > 0 and char_enc == word[idx - 1])\n",
        "                ):\n",
        "                    word_chars += self.rev_char_map[char_enc]\n",
        "            dec_words.append(word_chars)\n",
        "        return dec_words"
      ]
    },
    {
      "cell_type": "markdown",
      "id": "89c6df21",
      "metadata": {
        "id": "89c6df21"
      },
      "source": [
        "## 5. Accuracy в качестве метрики\n",
        "\n",
        "Accuracy измеряет долю предсказанных строк текста, которые полностью совпадают с таргет текстом."
      ]
    },
    {
      "cell_type": "code",
      "execution_count": 55,
      "id": "588929f3",
      "metadata": {
        "id": "588929f3"
      },
      "outputs": [],
      "source": [
        "def get_accuracy(y_true, y_pred):\n",
        "    scores = []\n",
        "    for true, pred in zip(y_true, y_pred):\n",
        "        scores.append(true == pred)\n",
        "    avg_score = np.mean(scores)\n",
        "    return avg_score"
      ]
    },
    {
      "cell_type": "code",
      "source": [
        "from jiwer import cer\n",
        "\n",
        "def get_cer(true_texts, pred_texts):\n",
        "    total_cer = 0.0\n",
        "    for true, pred in zip(true_texts, pred_texts):\n",
        "        total_cer += cer(true, pred)\n",
        "    return total_cer / len(true_texts)"
      ],
      "metadata": {
        "id": "Vl1V6GkTTdGo"
      },
      "id": "Vl1V6GkTTdGo",
      "execution_count": 54,
      "outputs": []
    },
    {
      "cell_type": "markdown",
      "id": "3bb94641",
      "metadata": {
        "id": "3bb94641"
      },
      "source": [
        "## 6. Аугментации\n",
        "\n",
        "Здесь мы задаем базовые аугментации для модели. Вы можете написать свои или использовать готовые библиотеки типа albumentations"
      ]
    },
    {
      "cell_type": "code",
      "execution_count": 18,
      "id": "615419c3",
      "metadata": {
        "id": "615419c3"
      },
      "outputs": [],
      "source": [
        "class Normalize:\n",
        "    def __call__(self, img):\n",
        "        img = img.astype(np.float32) / 255\n",
        "        return img\n",
        "\n",
        "\n",
        "class ToTensor:\n",
        "    def __call__(self, arr):\n",
        "        arr = torch.from_numpy(arr)\n",
        "        return arr\n",
        "\n",
        "\n",
        "class MoveChannels:\n",
        "    \"\"\"Move the channel axis to the zero position as required in pytorch.\"\"\"\n",
        "\n",
        "    def __init__(self, to_channels_first=True):\n",
        "        self.to_channels_first = to_channels_first\n",
        "\n",
        "    def __call__(self, image):\n",
        "        if self.to_channels_first:\n",
        "            return np.moveaxis(image, -1, 0)\n",
        "        else:\n",
        "            return np.moveaxis(image, 0, -1)\n",
        "\n",
        "\n",
        "class ImageResize:\n",
        "    def __init__(self, height, width):\n",
        "        self.height = height\n",
        "        self.width = width\n",
        "\n",
        "    def __call__(self, image):\n",
        "        if image is None:\n",
        "          raise FileNotFoundError(\"OpenCV не смог загрузить изображение (None)\")\n",
        "        image = cv2.resize(image, (self.width, self.height),\n",
        "                           interpolation=cv2.INTER_LINEAR)\n",
        "        return image\n",
        "\n",
        "\n",
        "\n",
        "def get_train_transforms(height, width):\n",
        "    transforms = torchvision.transforms.Compose([\n",
        "        ImageResize(height, width),\n",
        "        MoveChannels(to_channels_first=True),\n",
        "        Normalize(),\n",
        "        ToTensor()\n",
        "    ])\n",
        "    return transforms\n",
        "\n",
        "\n",
        "def get_val_transforms(height, width):\n",
        "    transforms = torchvision.transforms.Compose([\n",
        "        ImageResize(height, width),\n",
        "        MoveChannels(to_channels_first=True),\n",
        "        Normalize(),\n",
        "        ToTensor()\n",
        "    ])\n",
        "    return transforms"
      ]
    },
    {
      "cell_type": "markdown",
      "id": "dda2a878",
      "metadata": {
        "id": "dda2a878"
      },
      "source": [
        "## 7. Здесь определяем саму модель - CRNN\n",
        "\n",
        "Подробнее об архитектуре можно почитать в статье https://arxiv.org/abs/1507.05717"
      ]
    },
    {
      "cell_type": "code",
      "execution_count": 19,
      "id": "5d85e1d0",
      "metadata": {
        "id": "5d85e1d0"
      },
      "outputs": [],
      "source": [
        "def get_resnet34_backbone(pretrained=True):\n",
        "    m = torchvision.models.resnet34(pretrained=True)\n",
        "    input_conv = nn.Conv2d(3, 64, 7, 1, 3)\n",
        "    blocks = [input_conv, m.bn1, m.relu,\n",
        "              m.maxpool, m.layer1, m.layer2, m.layer3]\n",
        "    return nn.Sequential(*blocks)\n",
        "\n",
        "\n",
        "class BiLSTM(nn.Module):\n",
        "    def __init__(self, input_size, hidden_size, num_layers, dropout=0.1):\n",
        "        super().__init__()\n",
        "        self.lstm = nn.LSTM(\n",
        "            input_size, hidden_size, num_layers,\n",
        "            dropout=dropout, batch_first=True, bidirectional=True)\n",
        "\n",
        "    def forward(self, x):\n",
        "        out, _ = self.lstm(x)\n",
        "        return out\n",
        "\n",
        "\n",
        "class CRNN(nn.Module):\n",
        "    def __init__(\n",
        "        self, number_class_symbols, time_feature_count=256, lstm_hidden=256,\n",
        "        lstm_len=2,\n",
        "    ):\n",
        "        super().__init__()\n",
        "        self.feature_extractor = get_resnet34_backbone(pretrained=True)\n",
        "        self.avg_pool = nn.AdaptiveAvgPool2d(\n",
        "            (time_feature_count, time_feature_count))\n",
        "        self.bilstm = BiLSTM(time_feature_count, lstm_hidden, lstm_len)\n",
        "        self.classifier = nn.Sequential(\n",
        "            nn.Linear(lstm_hidden * 2, time_feature_count),\n",
        "            nn.GELU(),\n",
        "            nn.Dropout(0.1),\n",
        "            nn.Linear(time_feature_count, number_class_symbols)\n",
        "        )\n",
        "\n",
        "    def forward(self, x):\n",
        "        x = self.feature_extractor(x)\n",
        "        b, c, h, w = x.size()\n",
        "        x = x.view(b, c * h, w)\n",
        "        x = self.avg_pool(x)\n",
        "        x = x.transpose(1, 2)\n",
        "        x = self.bilstm(x)\n",
        "        x = self.classifier(x)\n",
        "        x = nn.functional.log_softmax(x, dim=2).permute(1, 0, 2)\n",
        "        return x"
      ]
    },
    {
      "cell_type": "markdown",
      "id": "3b579f5a",
      "metadata": {
        "id": "3b579f5a"
      },
      "source": [
        "## 8. Переходим к самому скрипту обучения - циклы трейна и валидации"
      ]
    },
    {
      "cell_type": "code",
      "execution_count": 56,
      "id": "d38b9c8b",
      "metadata": {
        "id": "d38b9c8b"
      },
      "outputs": [],
      "source": [
        "# def val_loop(data_loader, model, tokenizer, device):\n",
        "#     acc_avg = AverageMeter()\n",
        "#     #for images, texts, _, _ in data_loader:\n",
        "#     #    batch_size = len(texts)\n",
        "#     #    text_preds = predict(images, model, tokenizer, device)\n",
        "#     #    acc_avg.update(get_accuracy(texts, text_preds), batch_size)\n",
        "#     #print(f'Validation, acc: {acc_avg.avg:.4f}')\n",
        "#     #return acc_avg.avg\n",
        "#     model.eval()\n",
        "#     with torch.no_grad():  #Выключаем градиенты\n",
        "#         for images, texts, _, _ in data_loader:\n",
        "#             batch_size = len(texts)\n",
        "#             text_preds = predict(images, model, tokenizer, device)\n",
        "#             acc_avg.update(get_accuracy(texts, text_preds), batch_size)\n",
        "#     print(f'Validation, acc: {acc_avg.avg:.4f}')\n",
        "#     return acc_avg.avg\n",
        "\n",
        "def val_loop(data_loader, model, tokenizer, device):\n",
        "    acc_avg = AverageMeter()\n",
        "    cer_total = 0\n",
        "    total_samples = 0\n",
        "\n",
        "    model.eval()\n",
        "    with torch.no_grad():\n",
        "        for images, texts, _, _ in data_loader:\n",
        "            batch_size = len(texts)\n",
        "            text_preds = predict(images, model, tokenizer, device)\n",
        "\n",
        "            acc = get_accuracy(texts, text_preds)\n",
        "            acc_avg.update(acc, batch_size)\n",
        "\n",
        "            cer_total += get_cer(texts, text_preds) * batch_size\n",
        "            total_samples += batch_size\n",
        "\n",
        "    cer_avg = cer_total / total_samples\n",
        "    print(f'Validation, acc: {acc_avg.avg:.4f}, CER: {cer_avg:.4f}')\n",
        "    return acc_avg.avg, cer_avg\n",
        "\n",
        "\n",
        "# def train_loop(data_loader, model, criterion, optimizer, epoch):\n",
        "#     loss_avg = AverageMeter()\n",
        "#     model.train()\n",
        "#     for images, texts, enc_pad_texts, text_lens in data_loader:\n",
        "#         model.zero_grad()\n",
        "#         images = images.to(DEVICE)\n",
        "#         batch_size = len(texts)\n",
        "#         output = model(images)\n",
        "#         output_lenghts = torch.full(\n",
        "#             size=(output.size(1),),\n",
        "#             fill_value=output.size(0),\n",
        "#             dtype=torch.long\n",
        "#         )\n",
        "#         loss = criterion(output, enc_pad_texts, output_lenghts, text_lens)\n",
        "#         loss_avg.update(loss.item(), batch_size)\n",
        "#         loss.backward()\n",
        "#         torch.nn.utils.clip_grad_norm_(model.parameters(), 2)\n",
        "#         optimizer.step()\n",
        "#     for param_group in optimizer.param_groups:\n",
        "#         lr = param_group['lr']\n",
        "#     print(f'\\nEpoch {epoch}, Loss: {loss_avg.avg:.5f}, LR: {lr:.7f}')\n",
        "#     return loss_avg.avg\n",
        "\n",
        "def train_loop(data_loader, model, criterion, optimizer, epoch):\n",
        "    loss_avg = AverageMeter()\n",
        "    model.train()\n",
        "    for images, texts, enc_pad_texts, text_lens in data_loader:\n",
        "        model.zero_grad()\n",
        "        images = images.to(DEVICE)\n",
        "        batch_size = len(texts)\n",
        "\n",
        "        output = model(images)\n",
        "        output_lengths = torch.full(\n",
        "            size=(output.size(1),),\n",
        "            fill_value=output.size(0),\n",
        "            dtype=torch.long\n",
        "        )\n",
        "\n",
        "        loss = criterion(output, enc_pad_texts, output_lengths, text_lens)\n",
        "        loss_avg.update(loss.item(), batch_size)\n",
        "        loss.backward()\n",
        "        torch.nn.utils.clip_grad_norm_(model.parameters(), 2)\n",
        "        optimizer.step()\n",
        "\n",
        "    for param_group in optimizer.param_groups:\n",
        "        lr = param_group['lr']\n",
        "    print(f'\\nEpoch {epoch}, Loss: {loss_avg.avg:.5f}, LR: {lr:.7f}')\n",
        "    return loss_avg.avg\n",
        "\n",
        "\n",
        "# def predict(images, model, tokenizer, device):\n",
        "#     model.eval()\n",
        "#     images = images.to(device)\n",
        "#     with torch.no_grad():\n",
        "#         output = model(images)\n",
        "#     pred = torch.argmax(output.detach().cpu(), -1).permute(1, 0).numpy()\n",
        "#     text_preds = tokenizer.decode(pred)\n",
        "#     return text_preds\n",
        "\n",
        "def predict(images, model, tokenizer, device):\n",
        "    model.eval()\n",
        "    images = images.to(device)\n",
        "    with torch.no_grad():\n",
        "        output = model(images)  # [T, B, C]\n",
        "    logits = output.detach().cpu()\n",
        "    pred_indices = torch.argmax(logits, dim=-1)  # [T, B]\n",
        "    pred_indices = pred_indices.permute(1, 0).numpy()  # [B, T]\n",
        "\n",
        "    # CTC decoding: remove duplicates and blanks (index 0 assumed to be blank)\n",
        "    decoded = []\n",
        "    for seq in pred_indices:\n",
        "        prev = -1\n",
        "        out = []\n",
        "        for idx in seq:\n",
        "            if idx != prev and idx != 0:\n",
        "                out.append(idx)\n",
        "            prev = idx\n",
        "        decoded.append(tokenizer.decode([out]))\n",
        "    return decoded\n",
        "\n",
        "\n",
        "def get_loaders(tokenizer, config):\n",
        "    train_transforms = get_train_transforms(\n",
        "        height=config['image']['height'],\n",
        "        width=config['image']['width']\n",
        "    )\n",
        "    train_loader = get_data_loader(\n",
        "        json_path=config['train']['json_path'],\n",
        "        root_path=config['train']['root_path'],\n",
        "        transforms=train_transforms,\n",
        "        tokenizer=tokenizer,\n",
        "        batch_size=config['train']['batch_size'],\n",
        "        drop_last=True\n",
        "    )\n",
        "    val_transforms = get_val_transforms(\n",
        "        height=config['image']['height'],\n",
        "        width=config['image']['width']\n",
        "    )\n",
        "    val_loader = get_data_loader(\n",
        "        transforms=val_transforms,\n",
        "        json_path=config['val']['json_path'],\n",
        "        root_path=config['val']['root_path'],\n",
        "        tokenizer=tokenizer,\n",
        "        batch_size=config['val']['batch_size'],\n",
        "        drop_last=False\n",
        "    )\n",
        "    return train_loader, val_loader\n",
        "\n",
        "\n",
        "# def train(config):\n",
        "#     tokenizer = Tokenizer(config['alphabet'])\n",
        "#     os.makedirs(config['save_dir'], exist_ok=True)\n",
        "#     train_loader, val_loader = get_loaders(tokenizer, config)\n",
        "\n",
        "#     model = CRNN(number_class_symbols=tokenizer.get_num_chars())\n",
        "#     model.to(DEVICE)\n",
        "\n",
        "#     criterion = torch.nn.CTCLoss(blank=0, reduction='mean', zero_infinity=True)\n",
        "#     optimizer = torch.optim.AdamW(model.parameters(), lr=0.001,\n",
        "#                                   weight_decay=0.01)\n",
        "#     scheduler = torch.optim.lr_scheduler.ReduceLROnPlateau(\n",
        "#         optimizer=optimizer, mode='max', factor=0.5, patience=15)\n",
        "#     best_acc = -np.inf\n",
        "#     acc_avg = val_loop(val_loader, model, tokenizer, DEVICE)\n",
        "#     for epoch in range(config['num_epochs']):\n",
        "#         loss_avg = train_loop(train_loader, model, criterion, optimizer, epoch)\n",
        "#         acc_avg = val_loop(val_loader, model, tokenizer, DEVICE)\n",
        "#         scheduler.step(acc_avg)\n",
        "#         if acc_avg > best_acc:\n",
        "#             best_acc = acc_avg\n",
        "#             model_save_path = os.path.join(\n",
        "#                 config['save_dir'], f'model-{epoch}-{acc_avg:.4f}.ckpt')\n",
        "#             torch.save(model.state_dict(), model_save_path)\n",
        "#             print('Model weights saved')\n",
        "\n",
        "\n",
        "def train(config):\n",
        "    tokenizer = Tokenizer(config['alphabet'])\n",
        "    os.makedirs(config['save_dir'], exist_ok=True)\n",
        "    train_loader, val_loader = get_loaders(tokenizer, config)\n",
        "\n",
        "    model = CRNN(number_class_symbols=tokenizer.get_num_chars())\n",
        "    model.to(DEVICE)\n",
        "\n",
        "    criterion = torch.nn.CTCLoss(blank=0, reduction='mean', zero_infinity=True)\n",
        "    optimizer = torch.optim.AdamW(model.parameters(), lr=0.001, weight_decay=0.01)\n",
        "    scheduler = torch.optim.lr_scheduler.ReduceLROnPlateau(\n",
        "        optimizer=optimizer, mode='max', factor=0.5, patience=15)\n",
        "\n",
        "    best_acc = -np.inf\n",
        "    history = []\n",
        "\n",
        "    acc_avg, cer_avg = val_loop(val_loader, model, tokenizer, DEVICE)  # ← обновлённый val_loop\n",
        "\n",
        "    for epoch in range(config['num_epochs']):\n",
        "        loss_avg = train_loop(train_loader, model, criterion, optimizer, epoch)\n",
        "        acc_avg, cer_avg = val_loop(val_loader, model, tokenizer, DEVICE)\n",
        "        scheduler.step(acc_avg)\n",
        "\n",
        "        history.append({\n",
        "            \"epoch\": epoch,\n",
        "            \"loss\": loss_avg,\n",
        "            \"accuracy\": acc_avg,\n",
        "            \"cer\": cer_avg\n",
        "        })\n",
        "\n",
        "        if acc_avg > best_acc:\n",
        "            best_acc = acc_avg\n",
        "            model_save_path = os.path.join(\n",
        "                config['save_dir'], f'model-{epoch}-{acc_avg:.4f}.ckpt')\n",
        "            torch.save(model.state_dict(), model_save_path)\n",
        "            print('Model weights saved')\n",
        "\n",
        "    # === Визуализация после обучения ===\n",
        "    df_history = pd.DataFrame(history)\n",
        "\n",
        "    plt.figure(figsize=(10, 4))\n",
        "    plt.plot(df_history[\"epoch\"].to_numpy(), df_history[\"accuracy\"].to_numpy(), label=\"Accuracy\")\n",
        "    plt.plot(df_history[\"epoch\"].to_numpy(), df_history[\"cer\"].to_numpy(), label=\"CER\")\n",
        "    plt.xlabel(\"Epoch\")\n",
        "    plt.ylabel(\"Value\")\n",
        "    plt.title(\"Validation Accuracy & CER\")\n",
        "    plt.legend()\n",
        "    plt.grid(True)\n",
        "    plt.tight_layout()\n",
        "    plt.show()\n",
        "\n",
        "    # График Loss\n",
        "    plt.figure(figsize=(10, 4))\n",
        "    plt.plot(df_history[\"epoch\"].to_numpy(), df_history[\"loss\"].to_numpy(), color=\"red\", label=\"Loss\")\n",
        "    plt.xlabel(\"Epoch\")\n",
        "    plt.ylabel(\"Loss\")\n",
        "    plt.title(\"Training Loss\")\n",
        "    plt.grid(True)\n",
        "    plt.tight_layout()\n",
        "    plt.show()\n",
        "\n",
        "    #     # === Сохранение истории метрик в CSV ===\n",
        "    # history_path = os.path.join(config['save_dir'], \"training_history.csv\")\n",
        "    # df_history.to_csv(history_path, index=False)\n",
        "    # print(f\"\\n📁 История обучения сохранена: {history_path}\")"
      ]
    },
    {
      "cell_type": "markdown",
      "id": "702a7f74",
      "metadata": {
        "id": "702a7f74"
      },
      "source": [
        "## 9. Запускаем обучение!"
      ]
    },
    {
      "cell_type": "code",
      "source": [
        "import numpy as np\n",
        "\n",
        "np.Inf = np.inf"
      ],
      "metadata": {
        "id": "eWupQatLYu29"
      },
      "id": "eWupQatLYu29",
      "execution_count": 57,
      "outputs": []
    },
    {
      "cell_type": "code",
      "execution_count": 58,
      "id": "2623aea6",
      "metadata": {
        "colab": {
          "base_uri": "https://localhost:8080/",
          "height": 1000
        },
        "collapsed": true,
        "id": "2623aea6",
        "scrolled": true,
        "outputId": "edbd9e4f-2a5a-4ec5-88b3-39c6eec901ef"
      },
      "outputs": [
        {
          "output_type": "stream",
          "name": "stderr",
          "text": [
            "/usr/local/lib/python3.11/dist-packages/torch/utils/data/dataloader.py:624: UserWarning: This DataLoader will create 8 worker processes in total. Our suggested max number of worker in current system is 2, which is smaller than what this DataLoader is going to create. Please be aware that excessive worker creation might get DataLoader running slow or even freeze, lower the worker number to avoid potential slowness/freeze if necessary.\n",
            "  warnings.warn(\n",
            "/usr/local/lib/python3.11/dist-packages/torchvision/models/_utils.py:208: UserWarning: The parameter 'pretrained' is deprecated since 0.13 and may be removed in the future, please use 'weights' instead.\n",
            "  warnings.warn(\n",
            "/usr/local/lib/python3.11/dist-packages/torchvision/models/_utils.py:223: UserWarning: Arguments other than a weight enum or `None` for 'weights' are deprecated since 0.13 and may be removed in the future. The current behavior is equivalent to passing `weights=ResNet34_Weights.IMAGENET1K_V1`. You can also use `weights=ResNet34_Weights.DEFAULT` to get the most up-to-date weights.\n",
            "  warnings.warn(msg)\n"
          ]
        },
        {
          "output_type": "stream",
          "name": "stdout",
          "text": [
            "Validation, acc: 0.0000, CER: 1.2776\n",
            "\n",
            "Epoch 0, Loss: 143.81783, LR: 0.0010000\n",
            "Validation, acc: 0.0000, CER: 1.0000\n",
            "Model weights saved\n",
            "\n",
            "Epoch 1, Loss: 4.64555, LR: 0.0010000\n",
            "Validation, acc: 0.0000, CER: 1.0000\n",
            "\n",
            "Epoch 2, Loss: 4.25414, LR: 0.0010000\n",
            "Validation, acc: 0.0000, CER: 1.0000\n",
            "\n",
            "Epoch 3, Loss: 4.06039, LR: 0.0010000\n",
            "Validation, acc: 0.0000, CER: 1.0000\n",
            "\n",
            "Epoch 4, Loss: 3.97796, LR: 0.0010000\n",
            "Validation, acc: 0.0000, CER: 1.0000\n",
            "\n",
            "Epoch 5, Loss: 3.99695, LR: 0.0010000\n",
            "Validation, acc: 0.0000, CER: 1.0000\n",
            "\n",
            "Epoch 6, Loss: 3.87821, LR: 0.0010000\n",
            "Validation, acc: 0.0000, CER: 1.0000\n",
            "\n",
            "Epoch 7, Loss: 3.85231, LR: 0.0010000\n",
            "Validation, acc: 0.0000, CER: 1.0000\n",
            "\n",
            "Epoch 8, Loss: 3.78274, LR: 0.0010000\n",
            "Validation, acc: 0.0000, CER: 0.9630\n",
            "\n",
            "Epoch 9, Loss: 3.73292, LR: 0.0010000\n",
            "Validation, acc: 0.0000, CER: 0.9062\n",
            "\n",
            "Epoch 10, Loss: 3.75127, LR: 0.0010000\n",
            "Validation, acc: 0.0000, CER: 0.9062\n",
            "\n",
            "Epoch 11, Loss: 3.68237, LR: 0.0010000\n",
            "Validation, acc: 0.0000, CER: 0.9062\n",
            "\n",
            "Epoch 12, Loss: 3.65992, LR: 0.0010000\n",
            "Validation, acc: 0.0000, CER: 0.9069\n",
            "\n",
            "Epoch 13, Loss: 3.61210, LR: 0.0010000\n",
            "Validation, acc: 0.0000, CER: 0.9172\n",
            "\n",
            "Epoch 14, Loss: 3.57941, LR: 0.0010000\n",
            "Validation, acc: 0.0000, CER: 0.9036\n",
            "\n",
            "Epoch 15, Loss: 3.54803, LR: 0.0010000\n",
            "Validation, acc: 0.0000, CER: 0.9134\n",
            "\n",
            "Epoch 16, Loss: 3.53676, LR: 0.0010000\n",
            "Validation, acc: 0.0000, CER: 0.9062\n",
            "\n",
            "Epoch 17, Loss: 3.46933, LR: 0.0005000\n",
            "Validation, acc: 0.0000, CER: 0.9062\n",
            "\n",
            "Epoch 18, Loss: 3.42833, LR: 0.0005000\n",
            "Validation, acc: 0.0000, CER: 0.9092\n",
            "\n",
            "Epoch 19, Loss: 3.38797, LR: 0.0005000\n",
            "Validation, acc: 0.0000, CER: 0.8796\n",
            "\n",
            "Epoch 20, Loss: 3.37943, LR: 0.0005000\n",
            "Validation, acc: 0.0000, CER: 0.8888\n",
            "\n",
            "Epoch 21, Loss: 3.35262, LR: 0.0005000\n",
            "Validation, acc: 0.0000, CER: 0.8662\n",
            "\n",
            "Epoch 22, Loss: 3.39485, LR: 0.0005000\n",
            "Validation, acc: 0.0000, CER: 0.8608\n",
            "\n",
            "Epoch 23, Loss: 3.40542, LR: 0.0005000\n",
            "Validation, acc: 0.0000, CER: 0.8679\n",
            "\n",
            "Epoch 24, Loss: 3.40924, LR: 0.0005000\n",
            "Validation, acc: 0.0000, CER: 0.8582\n",
            "\n",
            "Epoch 25, Loss: 3.35720, LR: 0.0005000\n",
            "Validation, acc: 0.0000, CER: 0.8674\n",
            "\n",
            "Epoch 26, Loss: 3.33506, LR: 0.0005000\n",
            "Validation, acc: 0.0000, CER: 0.8607\n",
            "\n",
            "Epoch 27, Loss: 3.33945, LR: 0.0005000\n",
            "Validation, acc: 0.0000, CER: 0.8693\n",
            "\n",
            "Epoch 28, Loss: 3.28624, LR: 0.0005000\n",
            "Validation, acc: 0.0000, CER: 0.8707\n",
            "\n",
            "Epoch 29, Loss: 3.26786, LR: 0.0005000\n",
            "Validation, acc: 0.0000, CER: 0.8688\n",
            "\n",
            "Epoch 30, Loss: 3.30751, LR: 0.0005000\n",
            "Validation, acc: 0.0000, CER: 0.8741\n",
            "\n",
            "Epoch 31, Loss: 3.29456, LR: 0.0005000\n",
            "Validation, acc: 0.0000, CER: 0.8554\n",
            "\n",
            "Epoch 32, Loss: 3.24629, LR: 0.0005000\n",
            "Validation, acc: 0.0000, CER: 0.8555\n",
            "\n",
            "Epoch 33, Loss: 3.23020, LR: 0.0002500\n",
            "Validation, acc: 0.0000, CER: 0.8500\n",
            "\n",
            "Epoch 34, Loss: 3.17834, LR: 0.0002500\n",
            "Validation, acc: 0.0000, CER: 0.8611\n",
            "\n",
            "Epoch 35, Loss: 3.15548, LR: 0.0002500\n",
            "Validation, acc: 0.0000, CER: 0.8704\n",
            "\n",
            "Epoch 36, Loss: 3.13010, LR: 0.0002500\n",
            "Validation, acc: 0.0000, CER: 0.8612\n",
            "\n",
            "Epoch 37, Loss: 3.12450, LR: 0.0002500\n",
            "Validation, acc: 0.0000, CER: 0.8601\n",
            "\n",
            "Epoch 38, Loss: 3.10180, LR: 0.0002500\n",
            "Validation, acc: 0.0000, CER: 0.8678\n",
            "\n",
            "Epoch 39, Loss: 3.08070, LR: 0.0002500\n",
            "Validation, acc: 0.0000, CER: 0.8553\n",
            "\n",
            "Epoch 40, Loss: 3.06256, LR: 0.0002500\n",
            "Validation, acc: 0.0000, CER: 0.8518\n",
            "\n",
            "Epoch 41, Loss: 3.05718, LR: 0.0002500\n",
            "Validation, acc: 0.0000, CER: 0.8580\n",
            "\n",
            "Epoch 42, Loss: 3.03729, LR: 0.0002500\n",
            "Validation, acc: 0.0000, CER: 0.8452\n",
            "\n",
            "Epoch 43, Loss: 3.01380, LR: 0.0002500\n",
            "Validation, acc: 0.0000, CER: 0.8614\n",
            "\n",
            "Epoch 44, Loss: 2.98852, LR: 0.0002500\n",
            "Validation, acc: 0.0000, CER: 0.8602\n",
            "\n",
            "Epoch 45, Loss: 2.95650, LR: 0.0002500\n",
            "Validation, acc: 0.0000, CER: 0.8653\n",
            "\n",
            "Epoch 46, Loss: 2.93855, LR: 0.0002500\n",
            "Validation, acc: 0.0000, CER: 0.8600\n",
            "\n",
            "Epoch 47, Loss: 2.93020, LR: 0.0002500\n",
            "Validation, acc: 0.0000, CER: 0.8545\n",
            "\n",
            "Epoch 48, Loss: 2.93234, LR: 0.0002500\n",
            "Validation, acc: 0.0000, CER: 0.8643\n",
            "\n",
            "Epoch 49, Loss: 2.91953, LR: 0.0001250\n",
            "Validation, acc: 0.0000, CER: 0.8673\n",
            "\n",
            "Epoch 50, Loss: 2.87351, LR: 0.0001250\n",
            "Validation, acc: 0.0000, CER: 0.8441\n",
            "\n",
            "Epoch 51, Loss: 2.83468, LR: 0.0001250\n",
            "Validation, acc: 0.0000, CER: 0.8588\n",
            "\n",
            "Epoch 52, Loss: 2.81915, LR: 0.0001250\n",
            "Validation, acc: 0.0000, CER: 0.8514\n",
            "\n",
            "Epoch 53, Loss: 2.78476, LR: 0.0001250\n",
            "Validation, acc: 0.0000, CER: 0.8582\n",
            "\n",
            "Epoch 54, Loss: 2.76879, LR: 0.0001250\n",
            "Validation, acc: 0.0000, CER: 0.8458\n",
            "\n",
            "Epoch 55, Loss: 2.75863, LR: 0.0001250\n",
            "Validation, acc: 0.0000, CER: 0.8527\n",
            "\n",
            "Epoch 56, Loss: 2.72673, LR: 0.0001250\n",
            "Validation, acc: 0.0000, CER: 0.8545\n",
            "\n",
            "Epoch 57, Loss: 2.72094, LR: 0.0001250\n",
            "Validation, acc: 0.0000, CER: 0.8567\n",
            "\n",
            "Epoch 58, Loss: 2.72815, LR: 0.0001250\n",
            "Validation, acc: 0.0000, CER: 0.8491\n",
            "\n",
            "Epoch 59, Loss: 2.70225, LR: 0.0001250\n",
            "Validation, acc: 0.0000, CER: 0.8608\n",
            "\n",
            "Epoch 60, Loss: 2.69263, LR: 0.0001250\n",
            "Validation, acc: 0.0000, CER: 0.8656\n",
            "\n",
            "Epoch 61, Loss: 2.67654, LR: 0.0001250\n",
            "Validation, acc: 0.0000, CER: 0.8453\n",
            "\n",
            "Epoch 62, Loss: 2.66942, LR: 0.0001250\n",
            "Validation, acc: 0.0000, CER: 0.8448\n",
            "\n",
            "Epoch 63, Loss: 2.64795, LR: 0.0001250\n",
            "Validation, acc: 0.0000, CER: 0.8615\n",
            "\n",
            "Epoch 64, Loss: 2.63826, LR: 0.0001250\n",
            "Validation, acc: 0.0000, CER: 0.8393\n",
            "\n",
            "Epoch 65, Loss: 2.60815, LR: 0.0000625\n",
            "Validation, acc: 0.0000, CER: 0.8442\n",
            "\n",
            "Epoch 66, Loss: 2.58736, LR: 0.0000625\n",
            "Validation, acc: 0.0000, CER: 0.8473\n",
            "\n",
            "Epoch 67, Loss: 2.55845, LR: 0.0000625\n",
            "Validation, acc: 0.0000, CER: 0.8453\n",
            "\n",
            "Epoch 68, Loss: 2.54887, LR: 0.0000625\n",
            "Validation, acc: 0.0000, CER: 0.8527\n",
            "\n",
            "Epoch 69, Loss: 2.53020, LR: 0.0000625\n",
            "Validation, acc: 0.0000, CER: 0.8544\n",
            "\n",
            "Epoch 70, Loss: 2.52062, LR: 0.0000625\n",
            "Validation, acc: 0.0000, CER: 0.8449\n",
            "\n",
            "Epoch 71, Loss: 2.52085, LR: 0.0000625\n",
            "Validation, acc: 0.0000, CER: 0.8541\n",
            "\n",
            "Epoch 72, Loss: 2.50241, LR: 0.0000625\n",
            "Validation, acc: 0.0000, CER: 0.8501\n",
            "\n",
            "Epoch 73, Loss: 2.48354, LR: 0.0000625\n",
            "Validation, acc: 0.0000, CER: 0.8404\n",
            "\n",
            "Epoch 74, Loss: 2.47954, LR: 0.0000625\n",
            "Validation, acc: 0.0000, CER: 0.8534\n",
            "\n",
            "Epoch 75, Loss: 2.47295, LR: 0.0000625\n",
            "Validation, acc: 0.0000, CER: 0.8496\n",
            "\n",
            "Epoch 76, Loss: 2.46978, LR: 0.0000625\n",
            "Validation, acc: 0.0000, CER: 0.8519\n",
            "\n",
            "Epoch 77, Loss: 2.45400, LR: 0.0000625\n",
            "Validation, acc: 0.0000, CER: 0.8511\n",
            "\n",
            "Epoch 78, Loss: 2.43658, LR: 0.0000625\n",
            "Validation, acc: 0.0000, CER: 0.8523\n",
            "\n",
            "Epoch 79, Loss: 2.43850, LR: 0.0000625\n",
            "Validation, acc: 0.0000, CER: 0.8569\n",
            "\n",
            "Epoch 80, Loss: 2.41782, LR: 0.0000625\n",
            "Validation, acc: 0.0000, CER: 0.8470\n",
            "\n",
            "Epoch 81, Loss: 2.41475, LR: 0.0000313\n",
            "Validation, acc: 0.0000, CER: 0.8441\n",
            "\n",
            "Epoch 82, Loss: 2.39659, LR: 0.0000313\n",
            "Validation, acc: 0.0000, CER: 0.8497\n",
            "\n",
            "Epoch 83, Loss: 2.38654, LR: 0.0000313\n",
            "Validation, acc: 0.0000, CER: 0.8525\n",
            "\n",
            "Epoch 84, Loss: 2.37794, LR: 0.0000313\n",
            "Validation, acc: 0.0000, CER: 0.8520\n",
            "\n",
            "Epoch 85, Loss: 2.37779, LR: 0.0000313\n",
            "Validation, acc: 0.0000, CER: 0.8482\n",
            "\n",
            "Epoch 86, Loss: 2.37081, LR: 0.0000313\n",
            "Validation, acc: 0.0000, CER: 0.8519\n",
            "\n",
            "Epoch 87, Loss: 2.36442, LR: 0.0000313\n",
            "Validation, acc: 0.0000, CER: 0.8518\n",
            "\n",
            "Epoch 88, Loss: 2.35677, LR: 0.0000313\n",
            "Validation, acc: 0.0000, CER: 0.8521\n",
            "\n",
            "Epoch 89, Loss: 2.35571, LR: 0.0000313\n",
            "Validation, acc: 0.0000, CER: 0.8504\n",
            "\n",
            "Epoch 90, Loss: 2.35143, LR: 0.0000313\n",
            "Validation, acc: 0.0000, CER: 0.8505\n",
            "\n",
            "Epoch 91, Loss: 2.34384, LR: 0.0000313\n",
            "Validation, acc: 0.0000, CER: 0.8510\n",
            "\n",
            "Epoch 92, Loss: 2.33599, LR: 0.0000313\n",
            "Validation, acc: 0.0000, CER: 0.8579\n",
            "\n",
            "Epoch 93, Loss: 2.33709, LR: 0.0000313\n",
            "Validation, acc: 0.0000, CER: 0.8523\n",
            "\n",
            "Epoch 94, Loss: 2.32882, LR: 0.0000313\n",
            "Validation, acc: 0.0000, CER: 0.8476\n",
            "\n",
            "Epoch 95, Loss: 2.32456, LR: 0.0000313\n",
            "Validation, acc: 0.0000, CER: 0.8507\n",
            "\n",
            "Epoch 96, Loss: 2.31249, LR: 0.0000313\n",
            "Validation, acc: 0.0000, CER: 0.8543\n",
            "\n",
            "Epoch 97, Loss: 2.31981, LR: 0.0000156\n",
            "Validation, acc: 0.0000, CER: 0.8513\n",
            "\n",
            "Epoch 98, Loss: 2.30070, LR: 0.0000156\n",
            "Validation, acc: 0.0000, CER: 0.8518\n",
            "\n",
            "Epoch 99, Loss: 2.30220, LR: 0.0000156\n",
            "Validation, acc: 0.0000, CER: 0.8496\n",
            "\n",
            "Epoch 100, Loss: 2.29149, LR: 0.0000156\n",
            "Validation, acc: 0.0000, CER: 0.8537\n",
            "\n",
            "Epoch 101, Loss: 2.29211, LR: 0.0000156\n",
            "Validation, acc: 0.0000, CER: 0.8469\n",
            "\n",
            "Epoch 102, Loss: 2.29779, LR: 0.0000156\n",
            "Validation, acc: 0.0000, CER: 0.8506\n",
            "\n",
            "Epoch 103, Loss: 2.28597, LR: 0.0000156\n",
            "Validation, acc: 0.0000, CER: 0.8473\n",
            "\n",
            "Epoch 104, Loss: 2.27929, LR: 0.0000156\n",
            "Validation, acc: 0.0000, CER: 0.8464\n",
            "\n",
            "Epoch 105, Loss: 2.28347, LR: 0.0000156\n",
            "Validation, acc: 0.0000, CER: 0.8506\n",
            "\n",
            "Epoch 106, Loss: 2.28301, LR: 0.0000156\n",
            "Validation, acc: 0.0000, CER: 0.8492\n",
            "\n",
            "Epoch 107, Loss: 2.27605, LR: 0.0000156\n",
            "Validation, acc: 0.0000, CER: 0.8495\n",
            "\n",
            "Epoch 108, Loss: 2.26079, LR: 0.0000156\n",
            "Validation, acc: 0.0000, CER: 0.8479\n",
            "\n",
            "Epoch 109, Loss: 2.27227, LR: 0.0000156\n",
            "Validation, acc: 0.0000, CER: 0.8516\n",
            "\n",
            "Epoch 110, Loss: 2.26626, LR: 0.0000156\n",
            "Validation, acc: 0.0000, CER: 0.8486\n",
            "\n",
            "Epoch 111, Loss: 2.25473, LR: 0.0000156\n",
            "Validation, acc: 0.0000, CER: 0.8478\n",
            "\n",
            "Epoch 112, Loss: 2.26879, LR: 0.0000156\n",
            "Validation, acc: 0.0000, CER: 0.8446\n",
            "\n",
            "Epoch 113, Loss: 2.25327, LR: 0.0000078\n",
            "Validation, acc: 0.0000, CER: 0.8469\n",
            "\n",
            "Epoch 114, Loss: 2.25805, LR: 0.0000078\n",
            "Validation, acc: 0.0000, CER: 0.8488\n",
            "\n",
            "Epoch 115, Loss: 2.25728, LR: 0.0000078\n",
            "Validation, acc: 0.0000, CER: 0.8463\n",
            "\n",
            "Epoch 116, Loss: 2.24895, LR: 0.0000078\n",
            "Validation, acc: 0.0000, CER: 0.8466\n",
            "\n",
            "Epoch 117, Loss: 2.24464, LR: 0.0000078\n",
            "Validation, acc: 0.0000, CER: 0.8454\n",
            "\n",
            "Epoch 118, Loss: 2.24720, LR: 0.0000078\n",
            "Validation, acc: 0.0000, CER: 0.8438\n",
            "\n",
            "Epoch 119, Loss: 2.24501, LR: 0.0000078\n",
            "Validation, acc: 0.0000, CER: 0.8428\n"
          ]
        },
        {
          "output_type": "stream",
          "name": "stderr",
          "text": [
            "/usr/local/lib/python3.11/dist-packages/IPython/core/pylabtools.py:151: MatplotlibDeprecationWarning: savefig() got unexpected keyword argument \"orientation\" which is no longer supported as of 3.3 and will become an error two minor releases later\n",
            "  fig.canvas.print_figure(bytes_io, **kw)\n",
            "/usr/local/lib/python3.11/dist-packages/IPython/core/pylabtools.py:151: MatplotlibDeprecationWarning: savefig() got unexpected keyword argument \"facecolor\" which is no longer supported as of 3.3 and will become an error two minor releases later\n",
            "  fig.canvas.print_figure(bytes_io, **kw)\n",
            "/usr/local/lib/python3.11/dist-packages/IPython/core/pylabtools.py:151: MatplotlibDeprecationWarning: savefig() got unexpected keyword argument \"edgecolor\" which is no longer supported as of 3.3 and will become an error two minor releases later\n",
            "  fig.canvas.print_figure(bytes_io, **kw)\n",
            "/usr/local/lib/python3.11/dist-packages/IPython/core/pylabtools.py:151: MatplotlibDeprecationWarning: savefig() got unexpected keyword argument \"bbox_inches_restore\" which is no longer supported as of 3.3 and will become an error two minor releases later\n",
            "  fig.canvas.print_figure(bytes_io, **kw)\n"
          ]
        },
        {
          "output_type": "display_data",
          "data": {
            "text/plain": [
              "<Figure size 1000x400 with 1 Axes>"
            ],
            "image/png": "[encoded data removed]"
          },
          "metadata": {}
        },
        {
          "output_type": "stream",
          "name": "stderr",
          "text": [
            "/usr/local/lib/python3.11/dist-packages/IPython/core/pylabtools.py:151: MatplotlibDeprecationWarning: savefig() got unexpected keyword argument \"orientation\" which is no longer supported as of 3.3 and will become an error two minor releases later\n",
            "  fig.canvas.print_figure(bytes_io, **kw)\n",
            "/usr/local/lib/python3.11/dist-packages/IPython/core/pylabtools.py:151: MatplotlibDeprecationWarning: savefig() got unexpected keyword argument \"facecolor\" which is no longer supported as of 3.3 and will become an error two minor releases later\n",
            "  fig.canvas.print_figure(bytes_io, **kw)\n",
            "/usr/local/lib/python3.11/dist-packages/IPython/core/pylabtools.py:151: MatplotlibDeprecationWarning: savefig() got unexpected keyword argument \"edgecolor\" which is no longer supported as of 3.3 and will become an error two minor releases later\n",
            "  fig.canvas.print_figure(bytes_io, **kw)\n",
            "/usr/local/lib/python3.11/dist-packages/IPython/core/pylabtools.py:151: MatplotlibDeprecationWarning: savefig() got unexpected keyword argument \"bbox_inches_restore\" which is no longer supported as of 3.3 and will become an error two minor releases later\n",
            "  fig.canvas.print_figure(bytes_io, **kw)\n"
          ]
        },
        {
          "output_type": "display_data",
          "data": {
            "text/plain": [
              "<Figure size 1000x400 with 1 Axes>"
            ],
            "image/png": "[encoded data removed]"
          },
          "metadata": {}
        },
        {
          "output_type": "stream",
          "name": "stdout",
          "text": [
            "\n",
            "📁 История обучения сохранена: experiments/test/training_history.csv\n"
          ]
        }
      ],
      "source": [
        "train(config_json)"
      ]
    },
    {
      "cell_type": "code",
      "source": [
        "%load_ext tensorboard\n",
        "%tensorboard --logdir {config['save_dir'] + '/logs'}"
      ],
      "metadata": {
        "colab": {
          "base_uri": "https://localhost:8080/",
          "height": 481
        },
        "id": "x8N1V1ZtQ__6",
        "outputId": "24173d6f-b193-4f8c-e019-9bd8487723c4"
      },
      "id": "x8N1V1ZtQ__6",
      "execution_count": 48,
      "outputs": [
        {
          "output_type": "display_data",
          "data": {
            "text/plain": [
              "ERROR: Failed to launch TensorBoard (exited with 2).\n",
              "Contents of stderr:\n",
              "2025-05-06 17:11:05.323473: E external/local_xla/xla/stream_executor/cuda/cuda_fft.cc:477] Unable to register cuFFT factory: Attempting to register factory for plugin cuFFT when one has already been registered\n",
              "WARNING: All log messages before absl::InitializeLog() is called are written to STDERR\n",
              "E0000 00:00:1746551465.345594   42605 cuda_dnn.cc:8310] Unable to register cuDNN factory: Attempting to register factory for plugin cuDNN when one has already been registered\n",
              "E0000 00:00:1746551465.351996   42605 cuda_blas.cc:1418] Unable to register cuBLAS factory: Attempting to register factory for plugin cuBLAS when one has already been registered\n",
              "usage: tensorboard [-h] [--helpfull] [--logdir PATH] [--logdir_spec PATH_SPEC]\n",
              "                   [--host ADDR] [--bind_all] [--port PORT]\n",
              "                   [--reuse_port BOOL] [--load_fast {false,auto,true}]\n",
              "                   [--extra_data_server_flags EXTRA_DATA_SERVER_FLAGS]\n",
              "                   [--grpc_creds_type {local,ssl,ssl_dev}]\n",
              "                   [--grpc_data_provider PORT] [--purge_orphaned_data BOOL]\n",
              "                   [--db URI] [--db_import] [--inspect] [--version_tb]\n",
              "                   [--tag TAG] [--event_file PATH] [--path_prefix PATH]\n",
              "                   [--window_title TEXT] [--max_reload_threads COUNT]\n",
              "                   [--reload_interval SECONDS] [--reload_task TYPE]\n",
              "                   [--reload_multifile BOOL]\n",
              "                   [--reload_multifile_inactive_secs SECONDS]\n",
              "                   [--generic_data TYPE]\n",
              "                   [--samples_per_plugin SAMPLES_PER_PLUGIN]\n",
              "                   [--detect_file_replacement BOOL]\n",
              "                   {serve} ...\n",
              "tensorboard: error: argument {serve}: invalid choice: '+' (choose from 'serve')"
            ]
          },
          "metadata": {}
        }
      ]
    },
    {
      "cell_type": "markdown",
      "id": "29f4656d",
      "metadata": {
        "id": "29f4656d"
      },
      "source": [
        "## 10. Создание предсказаний для public-датасета\n",
        "\n",
        "Сначала определим класс для создания предсказаний"
      ]
    },
    {
      "cell_type": "code",
      "execution_count": null,
      "id": "5d187224",
      "metadata": {
        "id": "5d187224"
      },
      "outputs": [],
      "source": [
        "class InferenceTransform:\n",
        "    def __init__(self, height, width):\n",
        "        self.transforms = get_val_transforms(height, width)\n",
        "\n",
        "    def __call__(self, images):\n",
        "        transformed_images = []\n",
        "        for image in images:\n",
        "            image = self.transforms(image)\n",
        "            transformed_images.append(image)\n",
        "        transformed_tensor = torch.stack(transformed_images, 0)\n",
        "        return transformed_tensor\n",
        "\n",
        "\n",
        "class OcrPredictor:\n",
        "    def __init__(self, model_path, config, device='cpu'):\n",
        "        self.tokenizer = Tokenizer(config['alphabet'])\n",
        "        self.device = torch.device(device)\n",
        "        # load model\n",
        "        self.model = CRNN(number_class_symbols=self.tokenizer.get_num_chars())\n",
        "        self.model.load_state_dict(torch.load(model_path, map_location=self.device))\n",
        "        self.model.to(self.device)\n",
        "\n",
        "        self.transforms = InferenceTransform(\n",
        "            height=config['image']['height'],\n",
        "            width=config['image']['width'],\n",
        "        )\n",
        "\n",
        "    def __call__(self, images):\n",
        "        if isinstance(images, (list, tuple)):\n",
        "            one_image = False\n",
        "        elif isinstance(images, np.ndarray):\n",
        "            images = [images]\n",
        "            one_image = True\n",
        "        else:\n",
        "            raise Exception(f\"Input must contain np.ndarray, \"\n",
        "                            f\"tuple or list, found {type(images)}.\")\n",
        "\n",
        "        images = self.transforms(images)\n",
        "        pred = predict(images, self.model, self.tokenizer, self.device)\n",
        "\n",
        "        if one_image:\n",
        "            return pred[0]\n",
        "        else:\n",
        "            return pred"
      ]
    },
    {
      "cell_type": "markdown",
      "id": "65a3cc7c",
      "metadata": {
        "id": "65a3cc7c"
      },
      "source": [
        "Инициализируем OCR predictor"
      ]
    },
    {
      "cell_type": "code",
      "source": [
        "!cp /content/drive/MyDrive/ocr-model-last.ckpt ocr-model-last.ckpt"
      ],
      "metadata": {
        "id": "Jn9OQuI_hRrS"
      },
      "id": "Jn9OQuI_hRrS",
      "execution_count": null,
      "outputs": []
    },
    {
      "cell_type": "code",
      "execution_count": null,
      "id": "ec949ffd",
      "metadata": {
        "id": "ec949ffd"
      },
      "outputs": [],
      "source": [
        "predictor = OcrPredictor(\n",
        "    model_path='ocr-model-last.ckpt',\n",
        "    config=config_json,\n",
        "    device='cpu'\n",
        ")"
      ]
    },
    {
      "cell_type": "markdown",
      "id": "30b0255b",
      "metadata": {
        "id": "30b0255b"
      },
      "source": [
        "Посмотрим несколько предсказаний и создадим финальный json"
      ]
    },
    {
      "cell_type": "code",
      "source": [
        "import numpy as np\n",
        "np.Inf = np.inf"
      ],
      "metadata": {
        "id": "7bOg_V8IjQgg"
      },
      "id": "7bOg_V8IjQgg",
      "execution_count": null,
      "outputs": []
    },
    {
      "cell_type": "code",
      "execution_count": null,
      "id": "5ab792ab",
      "metadata": {
        "id": "5ab792ab",
        "scrolled": true
      },
      "outputs": [],
      "source": [
        "pred_json = {}\n",
        "\n",
        "print_images = True\n",
        "for val_img in val_data_splitted[10:15]:\n",
        "    img = cv2.imread(f'/content/drive/MyDrive/train_recognition_small/images/{val_img[0]}')\n",
        "\n",
        "    pred = predictor(img)\n",
        "    pred_json[val_img[0]] = pred\n",
        "\n",
        "    if print_images:\n",
        "        img = cv2.cvtColor(img, cv2.COLOR_BGR2RGB)\n",
        "        plt.imshow(img)\n",
        "        plt.show()\n",
        "        print('Prediction: ', predictor(img))\n",
        "        print('True: ', val_img[1])\n"
      ]
    },
    {
      "cell_type": "markdown",
      "id": "f790f2fe",
      "metadata": {
        "id": "f790f2fe"
      },
      "source": [
        "Сохраням submission json с предсказаниями"
      ]
    },
    {
      "cell_type": "code",
      "execution_count": null,
      "id": "3264ac64",
      "metadata": {
        "id": "3264ac64"
      },
      "outputs": [],
      "source": [
        "with open('prediction_HTR.json', 'w') as f:\n",
        "    json.dump(pred_json, f)"
      ]
    }
  ],
  "metadata": {
    "accelerator": "GPU",
    "colab": {
      "gpuType": "T4",
      "provenance": []
    },
    "kernelspec": {
      "display_name": "Python 3",
      "name": "python3"
    },
    "language_info": {
      "codemirror_mode": {
        "name": "ipython",
        "version": 3
      },
      "file_extension": ".py",
      "mimetype": "text/x-python",
      "name": "python",
      "nbconvert_exporter": "python",
      "pygments_lexer": "ipython3",
      "version": "3.8.8"
    }
  },
  "nbformat": 4,
  "nbformat_minor": 5
}