{
  "nbformat": 4,
  "nbformat_minor": 0,
  "metadata": {
    "colab": {
      "provenance": [],
      "authorship_tag": "ABX9TyOaIwMWDLOus4iXFk13rkf8",
      "include_colab_link": true
    },
    "kernelspec": {
      "name": "python3",
      "display_name": "Python 3"
    },
    "language_info": {
      "name": "python"
    }
  },
  "cells": [
    {
      "cell_type": "markdown",
      "metadata": {
        "id": "view-in-github",
        "colab_type": "text"
      },
      "source": [
        "<a href=\"https://colab.research.google.com/github/MSHQD/HWR/blob/main/trocr_model.ipynb\" target=\"_parent\"><img src=\"https://colab.research.google.com/assets/colab-badge.svg\" alt=\"Open In Colab\"/></a>"
      ]
    },
    {
      "cell_type": "code",
      "execution_count": 2,
      "metadata": {
        "id": "TZSu9QueAoFn"
      },
      "outputs": [],
      "source": [
        "import cv2\n",
        "import albumentations as A\n",
        "import os\n",
        "import torch\n",
        "import numpy as np\n",
        "\n",
        "from albumentations.pytorch.transforms import ToTensorV2\n",
        "from transformers import AutoFeatureExtractor, XLMRobertaTokenizer, VisionEncoderDecoderModel, RobertaTokenizer"
      ]
    },
    {
      "cell_type": "code",
      "source": [
        "device = torch.device(\"cuda\" if torch.cuda.is_available() else \"cpu\")"
      ],
      "metadata": {
        "id": "CLzC5_gyAvSQ"
      },
      "execution_count": 3,
      "outputs": []
    },
    {
      "cell_type": "code",
      "source": [
        "class AlbuPadding(A.DualTransform):\n",
        "    def __init__(self, always_apply=False, p=0.5):\n",
        "        super(AlbuPadding, self).__init__(always_apply, p)\n",
        "\n",
        "    def apply(self, image, **params):\n",
        "        zeros = np.zeros((128, 384, 3))\n",
        "        image = np.concatenate([zeros, image, zeros], axis=0)\n",
        "        return image.astype(np.uint8)"
      ],
      "metadata": {
        "id": "1xrqkP8cAxkE"
      },
      "execution_count": 4,
      "outputs": []
    },
    {
      "cell_type": "code",
      "source": [
        "class TrOcrModel:\n",
        "  def __init__(self, model_path, padding=True):\n",
        "      self.model = VisionEncoderDecoderModel.from_pretrained(model_path).to(device)\n",
        "      self.model.eval()\n",
        "\n",
        "      self.feature_extractor = AutoFeatureExtractor.from_pretrained('trocr-small-handwritten-feature-extractor')\n",
        "      self.tokenizer = XLMRobertaTokenizer.from_pretrained('trocr-small-handwritten-tokenizer')\n",
        "\n",
        "      if padding:\n",
        "        self.transforms = A.Compose([\n",
        "                A.Resize(128, 384),\n",
        "                AlbuPadding(always_apply=True),\n",
        "            ])\n",
        "      else:\n",
        "        self.transforms = A.Compose([\n",
        "                A.Resize(384, 384),\n",
        "            ])"
      ],
      "metadata": {
        "id": "SDEwqzzmA1vh"
      },
      "execution_count": 5,
      "outputs": []
    },
    {
      "cell_type": "code",
      "source": [
        "  def image_preprocess(self, image):\n",
        "      image = self.transforms(image=image)['image']\n",
        "      pixel_values = self.feature_extractor(image, return_tensors=\"pt\").pixel_values\n",
        "      return pixel_values\n",
        "\n",
        "  def predict_batch(self, images):\n",
        "      batch = torch.concat([self.image_preprocess(image) for image in images], axis=0).to(device)\n",
        "      outputs = self.model.generate(batch)\n",
        "      return [self.tokenizer.decode(pred.cpu().numpy(), skip_special_tokens=True) for pred in outputs]\n",
        "\n",
        "  def __call__(self, image):\n",
        "      pred = self.model.generate(self.image_preprocess(image).to(device))\n",
        "      return self.tokenizer.decode(pred[0].cpu().numpy(), skip_special_tokens=True)"
      ],
      "metadata": {
        "id": "NDM398ZyA-um"
      },
      "execution_count": 6,
      "outputs": []
    }
  ]
}